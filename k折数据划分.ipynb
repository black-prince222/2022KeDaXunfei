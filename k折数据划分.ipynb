{
 "cells": [
  {
   "cell_type": "code",
   "execution_count": 10,
   "metadata": {},
   "outputs": [],
   "source": [
    "import numpy as np\n",
    "import pandas as pd\n",
    "import os \n",
    "import glob\n",
    "from sklearn.model_selection import KFold\n",
    "import shutil"
   ]
  },
  {
   "cell_type": "code",
   "execution_count": 11,
   "metadata": {},
   "outputs": [],
   "source": [
    "shutil.rmtree('kfold')\n",
    "os.mkdir('kfold')\n",
    "img_dir = './fruit/train/JPEGImages/*.jpg'\n",
    "img_names = glob.glob(img_dir)"
   ]
  },
  {
   "cell_type": "code",
   "execution_count": 12,
   "metadata": {},
   "outputs": [],
   "source": [
    "kf5 = KFold(5, shuffle = True)"
   ]
  },
  {
   "cell_type": "code",
   "execution_count": 13,
   "metadata": {},
   "outputs": [],
   "source": [
    "src_img_dir = './fruit/train/JPEGImages/'  #原始数据集位置\n",
    "src_lab_dir = './fruit/train/labels/'\n",
    "# train_images_dir = 'dataset/images/train/'\n",
    "# train_labels_dir = 'dataset/labels/train/'\n",
    "# val_images_dir = 'dataset/images/val/'\n",
    "# val_labels_dir = 'dataset/labels/val/'\n",
    "\n",
    "for i, (train_index, val_index) in enumerate(kf5.split(img_names)):\n",
    "    root = f'kfold/kfold_{i}/'\n",
    "    train_images_dir = os.path.join(root + 'images/train/')\n",
    "    train_labels_dir = os.path.join(root + 'labels/train/')\n",
    "    val_images_dir = os.path.join(root + 'images/val/')\n",
    "    val_labels_dir = os.path.join(root + 'labels/val/')\n",
    "                                                               \n",
    "    os.mkdir(root)\n",
    "    os.mkdir(root + 'images/')\n",
    "    os.mkdir(root + 'labels/')\n",
    "    os.mkdir(train_images_dir)\n",
    "    os.mkdir(train_labels_dir)\n",
    "    os.mkdir(val_images_dir)\n",
    "    os.mkdir(val_labels_dir)\n",
    "    \n",
    "    \n",
    "    \n",
    "    for idx in train_index:\n",
    "        train_name = img_names[idx].split('\\\\')[-1].split('.')[0]\n",
    "        shutil.copy(os.path.join(src_img_dir, str(train_name) + '.jpg'), os.path.join(train_images_dir, str(train_name) + '.jpg')) #复制图片\n",
    "        shutil.copy(os.path.join(src_lab_dir, str(train_name) + '.txt'), os.path.join(train_labels_dir, str(train_name) + '.txt')) #复制标签\n",
    "    \n",
    "    \n",
    "    for idx in val_index:\n",
    "        val_index = img_names[idx].split('\\\\')[-1].split('.')[0]\n",
    "        shutil.copy(os.path.join(src_img_dir, str(val_index) + '.jpg'), os.path.join(val_images_dir, str(val_index) + '.jpg')) #复制图片\n",
    "        shutil.copy(os.path.join(src_lab_dir, str(val_index) + '.txt'), os.path.join(val_labels_dir,str(val_index) + '.txt')) #复制标签"
   ]
  },
  {
   "cell_type": "code",
   "execution_count": null,
   "metadata": {},
   "outputs": [],
   "source": []
  }
 ],
 "metadata": {
  "kernelspec": {
   "display_name": "Python 3",
   "language": "python",
   "name": "python3"
  },
  "language_info": {
   "codemirror_mode": {
    "name": "ipython",
    "version": 3
   },
   "file_extension": ".py",
   "mimetype": "text/x-python",
   "name": "python",
   "nbconvert_exporter": "python",
   "pygments_lexer": "ipython3",
   "version": "3.7.4"
  }
 },
 "nbformat": 4,
 "nbformat_minor": 4
}
